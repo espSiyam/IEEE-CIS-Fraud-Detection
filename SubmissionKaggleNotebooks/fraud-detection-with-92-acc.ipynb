{
 "cells": [
  {
   "cell_type": "code",
   "execution_count": null,
   "metadata": {
    "_cell_guid": "b1076dfc-b9ad-4769-8c92-a6c4dae69d19",
    "_uuid": "8f2839f25d086af736a60e9eeb907d3b93b6e0e5",
    "execution": {
     "iopub.execute_input": "2021-06-05T06:20:05.768262Z",
     "iopub.status.busy": "2021-06-05T06:20:05.768004Z",
     "iopub.status.idle": "2021-06-05T06:20:05.778431Z",
     "shell.execute_reply": "2021-06-05T06:20:05.77751Z",
     "shell.execute_reply.started": "2021-06-05T06:20:05.768234Z"
    }
   },
   "outputs": [],
   "source": [
    "# This Python 3 environment comes with many helpful analytics libraries installed\n",
    "# It is defined by the kaggle/python Docker image: https://github.com/kaggle/docker-python\n",
    "# For example, here's several helpful packages to load\n",
    "\n",
    "import numpy as np # linear algebra\n",
    "import pandas as pd # data processing, CSV file I/O (e.g. pd.read_csv)\n",
    "\n",
    "# Input data files are available in the read-only \"../input/\" directory\n",
    "# For example, running this (by clicking run or pressing Shift+Enter) will list all files under the input directory\n",
    "\n",
    "import os\n",
    "for dirname, _, filenames in os.walk('/kaggle/input'):\n",
    "    for filename in filenames:\n",
    "        print(os.path.join(dirname, filename))\n",
    "\n",
    "# You can write up to 20GB to the current directory (/kaggle/working/) that gets preserved as output when you create a version using \"Save & Run All\" \n",
    "# You can also write temporary files to /kaggle/temp/, but they won't be saved outside of the current session"
   ]
  },
  {
   "cell_type": "code",
   "execution_count": null,
   "metadata": {
    "_cell_guid": "79c7e3d0-c299-4dcb-8224-4455121ee9b0",
    "_uuid": "d629ff2d2480ee46fbb7e2d37f6b5fab8052498a",
    "execution": {
     "iopub.execute_input": "2021-06-05T06:20:05.781799Z",
     "iopub.status.busy": "2021-06-05T06:20:05.781161Z",
     "iopub.status.idle": "2021-06-05T06:20:05.794241Z",
     "shell.execute_reply": "2021-06-05T06:20:05.793211Z",
     "shell.execute_reply.started": "2021-06-05T06:20:05.781756Z"
    }
   },
   "outputs": [],
   "source": [
    "import pandas as pd\n",
    "import numpy as np\n",
    "import matplotlib.pyplot as plt\n",
    "import seaborn as sns\n",
    "from sklearn.metrics import roc_auc_score\n",
    "from sklearn.preprocessing import LabelEncoder\n",
    "from sklearn.model_selection import TimeSeriesSplit, KFold\n",
    "from sklearn.ensemble import RandomForestClassifier\n",
    "import time\n",
    "import xgboost as xgb\n",
    "import lightgbm as lgb\n",
    "import warnings\n",
    "import pickle\n",
    "\n",
    "warnings.filterwarnings('ignore')\n",
    "pd.set_option('display.max_columns', None)\n",
    "plt.style.use(style='seaborn')\n",
    "%matplotlib inline"
   ]
  },
  {
   "cell_type": "code",
   "execution_count": null,
   "metadata": {
    "execution": {
     "iopub.execute_input": "2021-06-05T06:20:05.796107Z",
     "iopub.status.busy": "2021-06-05T06:20:05.795533Z",
     "iopub.status.idle": "2021-06-05T06:20:45.139309Z",
     "shell.execute_reply": "2021-06-05T06:20:45.138426Z",
     "shell.execute_reply.started": "2021-06-05T06:20:05.796078Z"
    }
   },
   "outputs": [],
   "source": [
    "%%time\n",
    "train_id = pd.read_csv('../input/ieee-fraud-detection/train_identity.csv')\n",
    "train_tr = pd.read_csv('../input/ieee-fraud-detection/train_transaction.csv')\n",
    "test_id = pd.read_csv('../input/ieee-fraud-detection/test_identity.csv')\n",
    "test_tr = pd.read_csv('../input/ieee-fraud-detection/test_transaction.csv')"
   ]
  },
  {
   "cell_type": "code",
   "execution_count": null,
   "metadata": {
    "execution": {
     "iopub.execute_input": "2021-06-05T06:20:45.141106Z",
     "iopub.status.busy": "2021-06-05T06:20:45.140838Z",
     "iopub.status.idle": "2021-06-05T06:20:45.271127Z",
     "shell.execute_reply": "2021-06-05T06:20:45.270116Z",
     "shell.execute_reply.started": "2021-06-05T06:20:45.141079Z"
    }
   },
   "outputs": [],
   "source": [
    "print(train_id.info())\n",
    "print(train_tr.info())"
   ]
  },
  {
   "cell_type": "markdown",
   "metadata": {},
   "source": [
    "# Merging the data"
   ]
  },
  {
   "cell_type": "code",
   "execution_count": null,
   "metadata": {
    "execution": {
     "iopub.execute_input": "2021-06-05T06:20:45.272742Z",
     "iopub.status.busy": "2021-06-05T06:20:45.272472Z",
     "iopub.status.idle": "2021-06-05T06:20:45.306295Z",
     "shell.execute_reply": "2021-06-05T06:20:45.305513Z",
     "shell.execute_reply.started": "2021-06-05T06:20:45.272716Z"
    }
   },
   "outputs": [],
   "source": [
    "train_id.head()"
   ]
  },
  {
   "cell_type": "code",
   "execution_count": null,
   "metadata": {
    "execution": {
     "iopub.execute_input": "2021-06-05T06:20:45.307921Z",
     "iopub.status.busy": "2021-06-05T06:20:45.307591Z",
     "iopub.status.idle": "2021-06-05T06:20:45.565715Z",
     "shell.execute_reply": "2021-06-05T06:20:45.564797Z",
     "shell.execute_reply.started": "2021-06-05T06:20:45.307894Z"
    }
   },
   "outputs": [],
   "source": [
    "train_tr.head()"
   ]
  },
  {
   "cell_type": "code",
   "execution_count": null,
   "metadata": {
    "execution": {
     "iopub.execute_input": "2021-06-05T06:20:45.567315Z",
     "iopub.status.busy": "2021-06-05T06:20:45.567066Z",
     "iopub.status.idle": "2021-06-05T06:20:47.146186Z",
     "shell.execute_reply": "2021-06-05T06:20:47.145291Z",
     "shell.execute_reply.started": "2021-06-05T06:20:45.56729Z"
    }
   },
   "outputs": [],
   "source": [
    "train = pd.merge(train_tr, train_id, how='left', \n",
    "                 on='TransactionID', left_index=True, \n",
    "                right_index=True)"
   ]
  },
  {
   "cell_type": "code",
   "execution_count": null,
   "metadata": {
    "execution": {
     "iopub.execute_input": "2021-06-05T06:20:47.147879Z",
     "iopub.status.busy": "2021-06-05T06:20:47.147582Z",
     "iopub.status.idle": "2021-06-05T06:20:48.503254Z",
     "shell.execute_reply": "2021-06-05T06:20:48.502178Z",
     "shell.execute_reply.started": "2021-06-05T06:20:47.14785Z"
    }
   },
   "outputs": [],
   "source": [
    "test = pd.merge(test_tr, test_id, how='left',\n",
    "               on='TransactionID', left_index=True,\n",
    "               right_index=True)"
   ]
  },
  {
   "cell_type": "code",
   "execution_count": null,
   "metadata": {
    "execution": {
     "iopub.execute_input": "2021-06-05T06:20:48.505364Z",
     "iopub.status.busy": "2021-06-05T06:20:48.505059Z",
     "iopub.status.idle": "2021-06-05T06:20:48.53022Z",
     "shell.execute_reply": "2021-06-05T06:20:48.529066Z",
     "shell.execute_reply.started": "2021-06-05T06:20:48.505332Z"
    }
   },
   "outputs": [],
   "source": [
    "del train_tr, train_id, test_tr, test_id"
   ]
  },
  {
   "cell_type": "code",
   "execution_count": null,
   "metadata": {
    "execution": {
     "iopub.execute_input": "2021-06-05T06:20:48.531872Z",
     "iopub.status.busy": "2021-06-05T06:20:48.531572Z",
     "iopub.status.idle": "2021-06-05T06:20:48.537765Z",
     "shell.execute_reply": "2021-06-05T06:20:48.536944Z",
     "shell.execute_reply.started": "2021-06-05T06:20:48.531846Z"
    }
   },
   "outputs": [],
   "source": [
    "print(train.shape)\n",
    "print(test.shape)"
   ]
  },
  {
   "cell_type": "code",
   "execution_count": null,
   "metadata": {
    "execution": {
     "iopub.execute_input": "2021-06-05T06:20:48.539364Z",
     "iopub.status.busy": "2021-06-05T06:20:48.538984Z",
     "iopub.status.idle": "2021-06-05T06:20:57.987102Z",
     "shell.execute_reply": "2021-06-05T06:20:57.986035Z",
     "shell.execute_reply.started": "2021-06-05T06:20:48.539327Z"
    }
   },
   "outputs": [],
   "source": [
    "train.describe()"
   ]
  },
  {
   "cell_type": "code",
   "execution_count": null,
   "metadata": {
    "execution": {
     "iopub.execute_input": "2021-06-05T06:20:57.989214Z",
     "iopub.status.busy": "2021-06-05T06:20:57.988836Z",
     "iopub.status.idle": "2021-06-05T06:21:05.750117Z",
     "shell.execute_reply": "2021-06-05T06:21:05.749125Z",
     "shell.execute_reply.started": "2021-06-05T06:20:57.989175Z"
    }
   },
   "outputs": [],
   "source": [
    "test.describe()"
   ]
  },
  {
   "cell_type": "code",
   "execution_count": null,
   "metadata": {
    "execution": {
     "iopub.execute_input": "2021-06-05T06:21:05.752085Z",
     "iopub.status.busy": "2021-06-05T06:21:05.751718Z",
     "iopub.status.idle": "2021-06-05T06:21:05.760839Z",
     "shell.execute_reply": "2021-06-05T06:21:05.759834Z",
     "shell.execute_reply.started": "2021-06-05T06:21:05.752048Z"
    }
   },
   "outputs": [],
   "source": [
    "target = train['isFraud']\n",
    "target"
   ]
  },
  {
   "cell_type": "code",
   "execution_count": null,
   "metadata": {
    "execution": {
     "iopub.execute_input": "2021-06-05T06:21:05.762694Z",
     "iopub.status.busy": "2021-06-05T06:21:05.762302Z",
     "iopub.status.idle": "2021-06-05T06:21:05.775578Z",
     "shell.execute_reply": "2021-06-05T06:21:05.774784Z",
     "shell.execute_reply.started": "2021-06-05T06:21:05.762656Z"
    }
   },
   "outputs": [],
   "source": [
    "def differentcolumns(traincols, testcols):\n",
    "    for i in traincols:\n",
    "        if i not in testcols:\n",
    "            print(i)\n",
    "differentcolumns(train.columns, test.columns)"
   ]
  },
  {
   "cell_type": "code",
   "execution_count": null,
   "metadata": {
    "execution": {
     "iopub.execute_input": "2021-06-05T06:21:05.777723Z",
     "iopub.status.busy": "2021-06-05T06:21:05.777467Z",
     "iopub.status.idle": "2021-06-05T06:21:06.866381Z",
     "shell.execute_reply": "2021-06-05T06:21:06.865309Z",
     "shell.execute_reply.started": "2021-06-05T06:21:05.777698Z"
    }
   },
   "outputs": [],
   "source": [
    "test = test.rename(columns={\"id-01\": \"id_01\", \"id-02\": \"id_02\", \"id-03\": \"id_03\", \n",
    "                            \"id-06\": \"id_06\", \"id-05\": \"id_05\", \"id-04\": \"id_04\", \n",
    "                            \"id-07\": \"id_07\", \"id-08\": \"id_08\", \"id-09\": \"id_09\", \n",
    "                            \"id-10\": \"id_10\", \"id-11\": \"id_11\", \"id-12\": \"id_12\", \n",
    "                            \"id-15\": \"id_15\", \"id-14\": \"id_14\", \"id-13\": \"id_13\", \n",
    "                            \"id-16\": \"id_16\", \"id-17\": \"id_17\", \"id-18\": \"id_18\", \n",
    "                            \"id-21\": \"id_21\", \"id-20\": \"id_20\", \"id-19\": \"id_19\", \n",
    "                            \"id-22\": \"id_22\", \"id-23\": \"id_23\", \"id-24\": \"id_24\", \n",
    "                            \"id-27\": \"id_27\", \"id-26\": \"id_26\", \"id-25\": \"id_25\", \n",
    "                            \"id-28\": \"id_28\", \"id-29\": \"id_29\", \"id-30\": \"id_30\", \n",
    "                            \"id-31\": \"id_31\", \"id-32\": \"id_32\", \"id-33\": \"id_33\", \n",
    "                            \"id-34\": \"id_34\", \"id-35\": \"id_35\", \"id-36\": \"id_36\", \n",
    "                            \"id-37\": \"id_37\", \"id-38\": \"id_38\"})\n",
    "test.head()"
   ]
  },
  {
   "cell_type": "code",
   "execution_count": null,
   "metadata": {
    "execution": {
     "iopub.execute_input": "2021-06-05T06:21:06.868087Z",
     "iopub.status.busy": "2021-06-05T06:21:06.867835Z",
     "iopub.status.idle": "2021-06-05T06:21:06.874032Z",
     "shell.execute_reply": "2021-06-05T06:21:06.872962Z",
     "shell.execute_reply.started": "2021-06-05T06:21:06.868063Z"
    }
   },
   "outputs": [],
   "source": [
    "differentcolumns(train.columns, test.columns)"
   ]
  },
  {
   "cell_type": "markdown",
   "metadata": {},
   "source": [
    "# Missing Values"
   ]
  },
  {
   "cell_type": "code",
   "execution_count": null,
   "metadata": {
    "execution": {
     "iopub.execute_input": "2021-06-05T06:23:56.953548Z",
     "iopub.status.busy": "2021-06-05T06:23:56.953219Z",
     "iopub.status.idle": "2021-06-05T06:23:58.223568Z",
     "shell.execute_reply": "2021-06-05T06:23:58.222578Z",
     "shell.execute_reply.started": "2021-06-05T06:23:56.95352Z"
    }
   },
   "outputs": [],
   "source": [
    "train.isnull().sum().sum()"
   ]
  },
  {
   "cell_type": "code",
   "execution_count": null,
   "metadata": {
    "execution": {
     "iopub.execute_input": "2021-06-05T06:24:27.641643Z",
     "iopub.status.busy": "2021-06-05T06:24:27.64131Z",
     "iopub.status.idle": "2021-06-05T06:24:28.898343Z",
     "shell.execute_reply": "2021-06-05T06:24:28.897172Z",
     "shell.execute_reply.started": "2021-06-05T06:24:27.641595Z"
    }
   },
   "outputs": [],
   "source": [
    "train.isnull().sum()"
   ]
  },
  {
   "cell_type": "code",
   "execution_count": null,
   "metadata": {
    "execution": {
     "iopub.execute_input": "2021-06-05T06:27:06.142317Z",
     "iopub.status.busy": "2021-06-05T06:27:06.141831Z",
     "iopub.status.idle": "2021-06-05T06:27:07.52848Z",
     "shell.execute_reply": "2021-06-05T06:27:07.527848Z",
     "shell.execute_reply.started": "2021-06-05T06:27:06.142282Z"
    }
   },
   "outputs": [],
   "source": [
    "train.isnull().count()"
   ]
  },
  {
   "cell_type": "code",
   "execution_count": null,
   "metadata": {
    "execution": {
     "iopub.execute_input": "2021-06-05T06:25:13.650374Z",
     "iopub.status.busy": "2021-06-05T06:25:13.649995Z",
     "iopub.status.idle": "2021-06-05T06:25:14.923203Z",
     "shell.execute_reply": "2021-06-05T06:25:14.922416Z",
     "shell.execute_reply.started": "2021-06-05T06:25:13.650342Z"
    }
   },
   "outputs": [],
   "source": [
    "train.isnull().sum().sort_values(ascending=False)"
   ]
  },
  {
   "cell_type": "code",
   "execution_count": null,
   "metadata": {
    "execution": {
     "iopub.execute_input": "2021-06-05T06:27:16.137315Z",
     "iopub.status.busy": "2021-06-05T06:27:16.136825Z",
     "iopub.status.idle": "2021-06-05T06:27:16.142992Z",
     "shell.execute_reply": "2021-06-05T06:27:16.142078Z",
     "shell.execute_reply.started": "2021-06-05T06:27:16.137285Z"
    }
   },
   "outputs": [],
   "source": [
    "def getnulls(data):\n",
    "    total = data.isnull().sum().sort_values(ascending=False)\n",
    "    percent = (data.isnull().sum() / data.isnull().count()).sort_values(ascending=False)\n",
    "    missing_data = pd.concat([total, percent], axis=1, keys=['total', 'precent'])\n",
    "    return missing_data"
   ]
  },
  {
   "cell_type": "code",
   "execution_count": null,
   "metadata": {
    "execution": {
     "iopub.execute_input": "2021-06-05T06:27:18.044664Z",
     "iopub.status.busy": "2021-06-05T06:27:18.044294Z",
     "iopub.status.idle": "2021-06-05T06:27:22.120844Z",
     "shell.execute_reply": "2021-06-05T06:27:22.119737Z",
     "shell.execute_reply.started": "2021-06-05T06:27:18.044633Z"
    }
   },
   "outputs": [],
   "source": [
    "# Train Data Missing Values\n",
    "missing_data_train = getnulls(train)\n",
    "missing_data_train.head(350).T"
   ]
  },
  {
   "cell_type": "code",
   "execution_count": null,
   "metadata": {
    "execution": {
     "iopub.execute_input": "2021-06-05T06:27:53.180074Z",
     "iopub.status.busy": "2021-06-05T06:27:53.179719Z",
     "iopub.status.idle": "2021-06-05T06:27:56.756233Z",
     "shell.execute_reply": "2021-06-05T06:27:56.755353Z",
     "shell.execute_reply.started": "2021-06-05T06:27:53.180044Z"
    }
   },
   "outputs": [],
   "source": [
    "# Test Data Missing Values\n",
    "missing_data_test = getnulls(test)\n",
    "missing_data_test.head(350).T"
   ]
  },
  {
   "cell_type": "code",
   "execution_count": null,
   "metadata": {
    "execution": {
     "iopub.execute_input": "2021-06-05T06:32:39.028962Z",
     "iopub.status.busy": "2021-06-05T06:32:39.028543Z",
     "iopub.status.idle": "2021-06-05T06:32:39.038004Z",
     "shell.execute_reply": "2021-06-05T06:32:39.037363Z",
     "shell.execute_reply.started": "2021-06-05T06:32:39.028931Z"
    }
   },
   "outputs": [],
   "source": [
    "# Get the columns that we have to drop\n",
    "droppedcols = missing_data_train[missing_data_train['total'] > 100000].index\n",
    "droppedcols"
   ]
  },
  {
   "cell_type": "code",
   "execution_count": null,
   "metadata": {
    "execution": {
     "iopub.execute_input": "2021-06-05T06:33:25.984389Z",
     "iopub.status.busy": "2021-06-05T06:33:25.984053Z",
     "iopub.status.idle": "2021-06-05T06:33:26.758768Z",
     "shell.execute_reply": "2021-06-05T06:33:26.757872Z",
     "shell.execute_reply.started": "2021-06-05T06:33:25.984362Z"
    }
   },
   "outputs": [],
   "source": [
    "# Drop the columns\n",
    "train.drop(droppedcols, axis=1, inplace=True)\n",
    "test.drop(droppedcols, axis=1, inplace=True)"
   ]
  },
  {
   "cell_type": "code",
   "execution_count": null,
   "metadata": {
    "execution": {
     "iopub.execute_input": "2021-06-05T06:33:33.219663Z",
     "iopub.status.busy": "2021-06-05T06:33:33.219306Z",
     "iopub.status.idle": "2021-06-05T06:33:33.235858Z",
     "shell.execute_reply": "2021-06-05T06:33:33.235024Z",
     "shell.execute_reply.started": "2021-06-05T06:33:33.219634Z"
    }
   },
   "outputs": [],
   "source": [
    "train.info()"
   ]
  },
  {
   "cell_type": "code",
   "execution_count": null,
   "metadata": {
    "execution": {
     "iopub.execute_input": "2021-06-05T06:33:38.635789Z",
     "iopub.status.busy": "2021-06-05T06:33:38.635162Z",
     "iopub.status.idle": "2021-06-05T06:33:38.650676Z",
     "shell.execute_reply": "2021-06-05T06:33:38.649717Z",
     "shell.execute_reply.started": "2021-06-05T06:33:38.635742Z"
    }
   },
   "outputs": [],
   "source": [
    "test.info()"
   ]
  },
  {
   "cell_type": "code",
   "execution_count": null,
   "metadata": {
    "execution": {
     "iopub.execute_input": "2021-06-05T06:33:39.484017Z",
     "iopub.status.busy": "2021-06-05T06:33:39.4837Z",
     "iopub.status.idle": "2021-06-05T06:33:39.489379Z",
     "shell.execute_reply": "2021-06-05T06:33:39.4882Z",
     "shell.execute_reply.started": "2021-06-05T06:33:39.483991Z"
    }
   },
   "outputs": [],
   "source": [
    "print(train.shape)\n",
    "print(test.shape)"
   ]
  },
  {
   "cell_type": "code",
   "execution_count": null,
   "metadata": {
    "execution": {
     "iopub.execute_input": "2021-06-05T06:34:07.08655Z",
     "iopub.status.busy": "2021-06-05T06:34:07.086246Z",
     "iopub.status.idle": "2021-06-05T06:34:08.437587Z",
     "shell.execute_reply": "2021-06-05T06:34:08.436672Z",
     "shell.execute_reply.started": "2021-06-05T06:34:07.086524Z"
    }
   },
   "outputs": [],
   "source": [
    "missing_data_train = getnulls(train)\n",
    "missing_data_train.head(200).T"
   ]
  },
  {
   "cell_type": "code",
   "execution_count": null,
   "metadata": {
    "execution": {
     "iopub.execute_input": "2021-06-05T06:34:25.294587Z",
     "iopub.status.busy": "2021-06-05T06:34:25.294004Z",
     "iopub.status.idle": "2021-06-05T06:34:26.415919Z",
     "shell.execute_reply": "2021-06-05T06:34:26.414956Z",
     "shell.execute_reply.started": "2021-06-05T06:34:25.294552Z"
    }
   },
   "outputs": [],
   "source": [
    "missing_data_test = getnulls(test)\n",
    "missing_data_test.head(200).T"
   ]
  },
  {
   "cell_type": "code",
   "execution_count": null,
   "metadata": {
    "execution": {
     "iopub.execute_input": "2021-06-05T06:34:28.548403Z",
     "iopub.status.busy": "2021-06-05T06:34:28.548054Z",
     "iopub.status.idle": "2021-06-05T06:34:28.555111Z",
     "shell.execute_reply": "2021-06-05T06:34:28.554437Z",
     "shell.execute_reply.started": "2021-06-05T06:34:28.54837Z"
    }
   },
   "outputs": [],
   "source": [
    "train['P_emaildomain']"
   ]
  },
  {
   "cell_type": "code",
   "execution_count": null,
   "metadata": {
    "execution": {
     "iopub.execute_input": "2021-06-05T06:34:35.282683Z",
     "iopub.status.busy": "2021-06-05T06:34:35.282162Z",
     "iopub.status.idle": "2021-06-05T06:34:35.34292Z",
     "shell.execute_reply": "2021-06-05T06:34:35.341931Z",
     "shell.execute_reply.started": "2021-06-05T06:34:35.282618Z"
    }
   },
   "outputs": [],
   "source": [
    "train['P_emaildomain'].value_counts()"
   ]
  },
  {
   "cell_type": "markdown",
   "metadata": {},
   "source": [
    "# See if there is some pattern in this column or just it's useless and get rid of it"
   ]
  },
  {
   "cell_type": "code",
   "execution_count": null,
   "metadata": {
    "execution": {
     "iopub.execute_input": "2021-06-05T06:34:49.113256Z",
     "iopub.status.busy": "2021-06-05T06:34:49.112937Z",
     "iopub.status.idle": "2021-06-05T06:34:49.124002Z",
     "shell.execute_reply": "2021-06-05T06:34:49.123066Z",
     "shell.execute_reply.started": "2021-06-05T06:34:49.11323Z"
    }
   },
   "outputs": [],
   "source": [
    "target.value_counts()"
   ]
  },
  {
   "cell_type": "code",
   "execution_count": null,
   "metadata": {
    "execution": {
     "iopub.execute_input": "2021-06-05T06:37:53.316272Z",
     "iopub.status.busy": "2021-06-05T06:37:53.315687Z",
     "iopub.status.idle": "2021-06-05T06:38:12.007832Z",
     "shell.execute_reply": "2021-06-05T06:38:12.00703Z",
     "shell.execute_reply.started": "2021-06-05T06:37:53.316225Z"
    }
   },
   "outputs": [],
   "source": [
    "cntgmail = 0\n",
    "cntyahoo = 0\n",
    "cnthotmail = 0\n",
    "cntanon = 0\n",
    "cntaol = 0\n",
    "for i in range(len(train)):\n",
    "    if train['P_emaildomain'][i] == 'gmail.com' and train['isFraud'][i] == 1:\n",
    "        cntgmail += 1\n",
    "    elif train['P_emaildomain'][i] == 'yahoo.com' and train['isFraud'][i] == 1:\n",
    "        cntyahoo += 1\n",
    "    elif train['P_emaildomain'][i] == 'hotmail.com' and train['isFraud'][i] == 1:\n",
    "        cnthotmail += 1\n",
    "    elif train['P_emaildomain'][i] == 'anonymous.com' and train['isFraud'][i] == 1:\n",
    "        cntanon += 1\n",
    "    elif train['P_emaildomain'][i] == 'aol.com' and train['isFraud'][i] == 1:\n",
    "        cntaol += 1\n",
    "    \n",
    "print(\"GMAIL:\", cntgmail)\n",
    "print(\"YAHOO:\", cntyahoo)\n",
    "print(\"HOTMAIL:\", cnthotmail)\n",
    "print(\"ANON:\", cntanon)\n",
    "print(\"AOL:\", cntaol)"
   ]
  },
  {
   "cell_type": "markdown",
   "metadata": {},
   "source": [
    "# There is no specific pattern in this columns if there is some specific domain is always fraud or something.\n",
    "# So it's time to get rid of it i guess."
   ]
  },
  {
   "cell_type": "code",
   "execution_count": null,
   "metadata": {
    "execution": {
     "iopub.execute_input": "2021-06-05T06:38:57.07923Z",
     "iopub.status.busy": "2021-06-05T06:38:57.078835Z",
     "iopub.status.idle": "2021-06-05T06:38:57.641771Z",
     "shell.execute_reply": "2021-06-05T06:38:57.640922Z",
     "shell.execute_reply.started": "2021-06-05T06:38:57.079192Z"
    }
   },
   "outputs": [],
   "source": [
    "train.drop(['P_emaildomain'], axis=1, inplace=True)\n",
    "test.drop(['P_emaildomain'], axis=1, inplace=True)"
   ]
  },
  {
   "cell_type": "code",
   "execution_count": null,
   "metadata": {
    "execution": {
     "iopub.execute_input": "2021-06-05T06:38:58.757805Z",
     "iopub.status.busy": "2021-06-05T06:38:58.757448Z",
     "iopub.status.idle": "2021-06-05T06:38:58.762635Z",
     "shell.execute_reply": "2021-06-05T06:38:58.761766Z",
     "shell.execute_reply.started": "2021-06-05T06:38:58.757776Z"
    }
   },
   "outputs": [],
   "source": [
    "print(train.shape)\n",
    "print(test.shape)"
   ]
  },
  {
   "cell_type": "markdown",
   "metadata": {},
   "source": [
    "# We can not figure out some pattern in this floating number columns cuz it has no meaning for us, so let's get rid of some of them and replace the nulls at others."
   ]
  },
  {
   "cell_type": "code",
   "execution_count": null,
   "metadata": {
    "execution": {
     "iopub.execute_input": "2021-06-05T06:39:37.843323Z",
     "iopub.status.busy": "2021-06-05T06:39:37.842985Z",
     "iopub.status.idle": "2021-06-05T06:39:37.848769Z",
     "shell.execute_reply": "2021-06-05T06:39:37.847966Z",
     "shell.execute_reply.started": "2021-06-05T06:39:37.843293Z"
    }
   },
   "outputs": [],
   "source": [
    "droppedcols = missing_data_train[missing_data_train['total'] > 15000].index"
   ]
  },
  {
   "cell_type": "code",
   "execution_count": null,
   "metadata": {
    "execution": {
     "iopub.execute_input": "2021-06-05T06:39:47.09365Z",
     "iopub.status.busy": "2021-06-05T06:39:47.093325Z",
     "iopub.status.idle": "2021-06-05T06:39:47.433464Z",
     "shell.execute_reply": "2021-06-05T06:39:47.432486Z",
     "shell.execute_reply.started": "2021-06-05T06:39:47.093621Z"
    }
   },
   "outputs": [],
   "source": [
    "train.drop(droppedcols, axis=1, inplace=True)\n",
    "test.drop(droppedcols, axis=1, inplace=True)\n",
    "print(train.shape)\n",
    "print(test.shape)"
   ]
  },
  {
   "cell_type": "code",
   "execution_count": null,
   "metadata": {
    "execution": {
     "iopub.execute_input": "2021-06-05T06:41:44.775842Z",
     "iopub.status.busy": "2021-06-05T06:41:44.775457Z",
     "iopub.status.idle": "2021-06-05T06:41:44.781009Z",
     "shell.execute_reply": "2021-06-05T06:41:44.780342Z",
     "shell.execute_reply.started": "2021-06-05T06:41:44.775811Z"
    }
   },
   "outputs": [],
   "source": [
    "differentcolumns(train.columns, test.columns)"
   ]
  },
  {
   "cell_type": "markdown",
   "metadata": {},
   "source": [
    "# Concatinating all data to fill the null values with the mean and mode"
   ]
  },
  {
   "cell_type": "code",
   "execution_count": null,
   "metadata": {
    "execution": {
     "iopub.execute_input": "2021-06-05T06:42:21.143365Z",
     "iopub.status.busy": "2021-06-05T06:42:21.143039Z",
     "iopub.status.idle": "2021-06-05T06:42:22.108416Z",
     "shell.execute_reply": "2021-06-05T06:42:22.107481Z",
     "shell.execute_reply.started": "2021-06-05T06:42:21.143336Z"
    }
   },
   "outputs": [],
   "source": [
    "ntrain = len(train)\n",
    "ntest = len(test)\n",
    "all_data = pd.concat([train, test], axis=0, sort=False)\n",
    "all_data.shape"
   ]
  },
  {
   "cell_type": "code",
   "execution_count": null,
   "metadata": {
    "execution": {
     "iopub.execute_input": "2021-06-05T06:42:27.347237Z",
     "iopub.status.busy": "2021-06-05T06:42:27.346888Z",
     "iopub.status.idle": "2021-06-05T06:42:27.352763Z",
     "shell.execute_reply": "2021-06-05T06:42:27.351728Z",
     "shell.execute_reply.started": "2021-06-05T06:42:27.347204Z"
    }
   },
   "outputs": [],
   "source": [
    "ntrain + ntest"
   ]
  },
  {
   "cell_type": "code",
   "execution_count": null,
   "metadata": {
    "execution": {
     "iopub.execute_input": "2021-06-05T06:43:35.83542Z",
     "iopub.status.busy": "2021-06-05T06:43:35.834937Z"
    }
   },
   "outputs": [],
   "source": [
    "all_data.head()\n",
    "all_data.to_csv(index=False)"
   ]
  },
  {
   "cell_type": "code",
   "execution_count": null,
   "metadata": {
    "execution": {
     "iopub.execute_input": "2021-06-05T06:53:28.915552Z",
     "iopub.status.busy": "2021-06-05T06:53:28.915005Z",
     "iopub.status.idle": "2021-06-05T06:53:28.924867Z",
     "shell.execute_reply": "2021-06-05T06:53:28.924075Z",
     "shell.execute_reply.started": "2021-06-05T06:53:28.915516Z"
    }
   },
   "outputs": [],
   "source": [
    "all_data.info()"
   ]
  },
  {
   "cell_type": "code",
   "execution_count": null,
   "metadata": {
    "execution": {
     "iopub.execute_input": "2021-06-05T06:53:52.809066Z",
     "iopub.status.busy": "2021-06-05T06:53:52.80852Z",
     "iopub.status.idle": "2021-06-05T06:53:53.150167Z",
     "shell.execute_reply": "2021-06-05T06:53:53.149411Z",
     "shell.execute_reply.started": "2021-06-05T06:53:52.809033Z"
    }
   },
   "outputs": [],
   "source": [
    "all_data_cols = all_data.columns\n",
    "for i in all_data_cols:\n",
    "    if all_data[i].dtype == 'object':\n",
    "        all_data[i] = all_data[i].fillna(all_data[i].mode()[0])"
   ]
  },
  {
   "cell_type": "code",
   "execution_count": null,
   "metadata": {
    "execution": {
     "iopub.execute_input": "2021-06-05T06:53:58.986566Z",
     "iopub.status.busy": "2021-06-05T06:53:58.985996Z",
     "iopub.status.idle": "2021-06-05T06:54:00.525808Z",
     "shell.execute_reply": "2021-06-05T06:54:00.524849Z",
     "shell.execute_reply.started": "2021-06-05T06:53:58.986517Z"
    }
   },
   "outputs": [],
   "source": [
    "missing_data = getnulls(all_data)\n",
    "missing_data.head(110).T"
   ]
  },
  {
   "cell_type": "code",
   "execution_count": null,
   "metadata": {
    "execution": {
     "iopub.execute_input": "2021-06-05T06:54:10.18504Z",
     "iopub.status.busy": "2021-06-05T06:54:10.184711Z",
     "iopub.status.idle": "2021-06-05T06:54:10.27875Z",
     "shell.execute_reply": "2021-06-05T06:54:10.277799Z",
     "shell.execute_reply.started": "2021-06-05T06:54:10.185011Z"
    }
   },
   "outputs": [],
   "source": [
    "all_data.head()"
   ]
  },
  {
   "cell_type": "code",
   "execution_count": null,
   "metadata": {
    "execution": {
     "iopub.execute_input": "2021-06-05T06:57:11.700532Z",
     "iopub.status.busy": "2021-06-05T06:57:11.700167Z",
     "iopub.status.idle": "2021-06-05T06:57:13.351743Z",
     "shell.execute_reply": "2021-06-05T06:57:13.350701Z",
     "shell.execute_reply.started": "2021-06-05T06:57:11.7005Z"
    }
   },
   "outputs": [],
   "source": [
    "for i in all_data_cols:\n",
    "    if (i.startswith(\"C\") or (i.startswith(\"V\"))) and all_data[i].isnull().sum() > 0:\n",
    "        all_data[i] = all_data[i].fillna(all_data[i].mode())\n",
    "missing_data = getnulls(all_data)\n",
    "missing_data.head(10).T"
   ]
  },
  {
   "cell_type": "code",
   "execution_count": null,
   "metadata": {
    "execution": {
     "iopub.execute_input": "2021-06-05T06:57:20.007396Z",
     "iopub.status.busy": "2021-06-05T06:57:20.00687Z",
     "iopub.status.idle": "2021-06-05T06:57:20.026496Z",
     "shell.execute_reply": "2021-06-05T06:57:20.025518Z",
     "shell.execute_reply.started": "2021-06-05T06:57:20.007351Z"
    }
   },
   "outputs": [],
   "source": [
    "all_data['card3'].value_counts()"
   ]
  },
  {
   "cell_type": "code",
   "execution_count": null,
   "metadata": {
    "execution": {
     "iopub.execute_input": "2021-06-05T06:57:36.773744Z",
     "iopub.status.busy": "2021-06-05T06:57:36.773412Z",
     "iopub.status.idle": "2021-06-05T06:57:36.799982Z",
     "shell.execute_reply": "2021-06-05T06:57:36.798919Z",
     "shell.execute_reply.started": "2021-06-05T06:57:36.773717Z"
    }
   },
   "outputs": [],
   "source": [
    "all_data['D1'].value_counts()"
   ]
  },
  {
   "cell_type": "code",
   "execution_count": null,
   "metadata": {
    "execution": {
     "iopub.execute_input": "2021-06-05T06:57:47.499669Z",
     "iopub.status.busy": "2021-06-05T06:57:47.499193Z",
     "iopub.status.idle": "2021-06-05T06:57:47.563235Z",
     "shell.execute_reply": "2021-06-05T06:57:47.562311Z",
     "shell.execute_reply.started": "2021-06-05T06:57:47.499626Z"
    }
   },
   "outputs": [],
   "source": [
    "all_data['D1'] = all_data['D1'].fillna(all_data['D1'].mode())\n",
    "all_data['card3'] = all_data['card3'].fillna(all_data['card3'].mean())\n"
   ]
  },
  {
   "cell_type": "code",
   "execution_count": null,
   "metadata": {
    "execution": {
     "iopub.execute_input": "2021-06-05T06:57:49.729435Z",
     "iopub.status.busy": "2021-06-05T06:57:49.728971Z",
     "iopub.status.idle": "2021-06-05T06:57:49.74951Z",
     "shell.execute_reply": "2021-06-05T06:57:49.748562Z",
     "shell.execute_reply.started": "2021-06-05T06:57:49.729405Z"
    }
   },
   "outputs": [],
   "source": [
    "all_data['card2'].value_counts()"
   ]
  },
  {
   "cell_type": "code",
   "execution_count": null,
   "metadata": {
    "execution": {
     "iopub.execute_input": "2021-06-05T06:58:40.822009Z",
     "iopub.status.busy": "2021-06-05T06:58:40.821644Z",
     "iopub.status.idle": "2021-06-05T06:58:40.837068Z",
     "shell.execute_reply": "2021-06-05T06:58:40.835747Z",
     "shell.execute_reply.started": "2021-06-05T06:58:40.821974Z"
    }
   },
   "outputs": [],
   "source": [
    "all_data['card2'] = all_data['card2'].fillna(all_data['card2'].mean())"
   ]
  },
  {
   "cell_type": "code",
   "execution_count": null,
   "metadata": {
    "execution": {
     "iopub.execute_input": "2021-06-05T06:58:41.794215Z",
     "iopub.status.busy": "2021-06-05T06:58:41.793851Z",
     "iopub.status.idle": "2021-06-05T06:58:43.218523Z",
     "shell.execute_reply": "2021-06-05T06:58:43.21773Z",
     "shell.execute_reply.started": "2021-06-05T06:58:41.794186Z"
    }
   },
   "outputs": [],
   "source": [
    "missing_data = getnulls(all_data)\n",
    "missing_data.head(5).T"
   ]
  },
  {
   "cell_type": "code",
   "execution_count": null,
   "metadata": {
    "execution": {
     "iopub.execute_input": "2021-06-05T06:58:44.399127Z",
     "iopub.status.busy": "2021-06-05T06:58:44.398804Z",
     "iopub.status.idle": "2021-06-05T06:58:44.417378Z",
     "shell.execute_reply": "2021-06-05T06:58:44.416428Z",
     "shell.execute_reply.started": "2021-06-05T06:58:44.399101Z"
    }
   },
   "outputs": [],
   "source": [
    "all_data['card5'].value_counts()"
   ]
  },
  {
   "cell_type": "code",
   "execution_count": null,
   "metadata": {
    "execution": {
     "iopub.execute_input": "2021-06-05T06:58:44.908406Z",
     "iopub.status.busy": "2021-06-05T06:58:44.908088Z",
     "iopub.status.idle": "2021-06-05T06:58:44.922482Z",
     "shell.execute_reply": "2021-06-05T06:58:44.921578Z",
     "shell.execute_reply.started": "2021-06-05T06:58:44.908379Z"
    }
   },
   "outputs": [],
   "source": [
    "all_data['card5'] = all_data['card5'].fillna(all_data['card5'].mean())"
   ]
  },
  {
   "cell_type": "code",
   "execution_count": null,
   "metadata": {
    "execution": {
     "iopub.execute_input": "2021-06-05T06:58:48.128704Z",
     "iopub.status.busy": "2021-06-05T06:58:48.128341Z",
     "iopub.status.idle": "2021-06-05T06:58:49.533154Z",
     "shell.execute_reply": "2021-06-05T06:58:49.532381Z",
     "shell.execute_reply.started": "2021-06-05T06:58:48.128671Z"
    }
   },
   "outputs": [],
   "source": [
    "missing_data = getnulls(all_data)\n",
    "missing_data.head(5).T"
   ]
  },
  {
   "cell_type": "markdown",
   "metadata": {},
   "source": [
    "# All the null values have been handled"
   ]
  },
  {
   "cell_type": "code",
   "execution_count": null,
   "metadata": {
    "execution": {
     "iopub.execute_input": "2021-06-05T06:59:05.687159Z",
     "iopub.status.busy": "2021-06-05T06:59:05.68677Z",
     "iopub.status.idle": "2021-06-05T06:59:05.692809Z",
     "shell.execute_reply": "2021-06-05T06:59:05.691866Z",
     "shell.execute_reply.started": "2021-06-05T06:59:05.687123Z"
    }
   },
   "outputs": [],
   "source": [
    "print(ntrain)\n",
    "print(ntest)\n",
    "print(ntrain+ntest)\n",
    "print(all_data.shape)"
   ]
  },
  {
   "cell_type": "code",
   "execution_count": null,
   "metadata": {
    "execution": {
     "iopub.execute_input": "2021-06-05T06:59:33.407947Z",
     "iopub.status.busy": "2021-06-05T06:59:33.407432Z",
     "iopub.status.idle": "2021-06-05T06:59:33.411145Z",
     "shell.execute_reply": "2021-06-05T06:59:33.410488Z",
     "shell.execute_reply.started": "2021-06-05T06:59:33.407913Z"
    }
   },
   "outputs": [],
   "source": [
    "del all_data"
   ]
  },
  {
   "cell_type": "code",
   "execution_count": null,
   "metadata": {
    "execution": {
     "iopub.execute_input": "2021-06-05T06:59:37.384516Z",
     "iopub.status.busy": "2021-06-05T06:59:37.383983Z",
     "iopub.status.idle": "2021-06-05T06:59:37.399009Z",
     "shell.execute_reply": "2021-06-05T06:59:37.398018Z",
     "shell.execute_reply.started": "2021-06-05T06:59:37.384483Z"
    }
   },
   "outputs": [],
   "source": [
    "# Split the data again\n",
    "train = all_data[:ntrain]\n",
    "test = all_data[ntrain:]"
   ]
  },
  {
   "cell_type": "code",
   "execution_count": null,
   "metadata": {
    "execution": {
     "iopub.execute_input": "2021-06-05T06:59:43.10265Z",
     "iopub.status.busy": "2021-06-05T06:59:43.102176Z",
     "iopub.status.idle": "2021-06-05T06:59:43.107164Z",
     "shell.execute_reply": "2021-06-05T06:59:43.10627Z",
     "shell.execute_reply.started": "2021-06-05T06:59:43.102602Z"
    }
   },
   "outputs": [],
   "source": [
    "print(train.shape)\n",
    "print(test.shape)"
   ]
  },
  {
   "cell_type": "code",
   "execution_count": null,
   "metadata": {},
   "outputs": [],
   "source": [
    "test.head()"
   ]
  },
  {
   "cell_type": "code",
   "execution_count": null,
   "metadata": {
    "execution": {
     "iopub.execute_input": "2021-06-05T06:59:50.070725Z",
     "iopub.status.busy": "2021-06-05T06:59:50.070369Z",
     "iopub.status.idle": "2021-06-05T06:59:50.507287Z",
     "shell.execute_reply": "2021-06-05T06:59:50.506188Z",
     "shell.execute_reply.started": "2021-06-05T06:59:50.070693Z"
    }
   },
   "outputs": [],
   "source": [
    "print(test['isFraud'].value_counts())\n",
    "test.drop(['isFraud'], axis=1, inplace=True)"
   ]
  },
  {
   "cell_type": "code",
   "execution_count": null,
   "metadata": {
    "execution": {
     "iopub.execute_input": "2021-06-05T07:00:02.997161Z",
     "iopub.status.busy": "2021-06-05T07:00:02.99684Z",
     "iopub.status.idle": "2021-06-05T07:00:03.002325Z",
     "shell.execute_reply": "2021-06-05T07:00:03.000825Z",
     "shell.execute_reply.started": "2021-06-05T07:00:02.997133Z"
    }
   },
   "outputs": [],
   "source": [
    "print(test.shape)"
   ]
  },
  {
   "cell_type": "markdown",
   "metadata": {},
   "source": [
    "# Correlations"
   ]
  },
  {
   "cell_type": "code",
   "execution_count": null,
   "metadata": {
    "execution": {
     "iopub.execute_input": "2021-06-05T07:00:07.165654Z",
     "iopub.status.busy": "2021-06-05T07:00:07.165318Z",
     "iopub.status.idle": "2021-06-05T07:00:52.532927Z",
     "shell.execute_reply": "2021-06-05T07:00:52.531598Z",
     "shell.execute_reply.started": "2021-06-05T07:00:07.165626Z"
    }
   },
   "outputs": [],
   "source": [
    "corr = train.corr()\n",
    "plt.subplots(figsize=(20, 20))\n",
    "sns.heatmap(corr, annot=True)"
   ]
  },
  {
   "cell_type": "markdown",
   "metadata": {},
   "source": [
    "# Okay this is just terrifing, we gotta figure some way to visualize it."
   ]
  },
  {
   "cell_type": "code",
   "execution_count": null,
   "metadata": {
    "execution": {
     "iopub.execute_input": "2021-06-05T07:01:24.303646Z",
     "iopub.status.busy": "2021-06-05T07:01:24.303278Z",
     "iopub.status.idle": "2021-06-05T07:01:24.389367Z",
     "shell.execute_reply": "2021-06-05T07:01:24.388387Z",
     "shell.execute_reply.started": "2021-06-05T07:01:24.303584Z"
    }
   },
   "outputs": [],
   "source": [
    "train.head()"
   ]
  },
  {
   "cell_type": "code",
   "execution_count": null,
   "metadata": {
    "execution": {
     "iopub.execute_input": "2021-06-05T07:01:49.201509Z",
     "iopub.status.busy": "2021-06-05T07:01:49.201157Z",
     "iopub.status.idle": "2021-06-05T07:01:51.734179Z",
     "shell.execute_reply": "2021-06-05T07:01:51.733413Z",
     "shell.execute_reply.started": "2021-06-05T07:01:49.201475Z"
    }
   },
   "outputs": [],
   "source": [
    "templst = ['isFraud', 'TransactionDT', 'TransactionAmt', 'ProductCD', \n",
    "           'card1', 'card2', 'card3', 'card4', 'card5', 'card6', 'D1', \n",
    "           'C1', 'C2', 'C3', 'C4', 'C5', 'C6', 'C6', 'C8', 'C9', 'C10', \n",
    "           'C11', 'C12', 'C13', 'C14']\n",
    "corr1 = train[templst].corr()\n",
    "plt.subplots(figsize=(15, 15))\n",
    "sns.heatmap(corr1, annot=True)"
   ]
  },
  {
   "cell_type": "markdown",
   "metadata": {},
   "source": [
    "# Hmmmmm It seems like there is no features have a strong correlation with the target feature, so we gotta keep as much feature as we can to take over that\n",
    "# We are not going to delete more features"
   ]
  },
  {
   "cell_type": "markdown",
   "metadata": {},
   "source": [
    "# Concatinating the data again to encode the categorical features"
   ]
  },
  {
   "cell_type": "code",
   "execution_count": null,
   "metadata": {
    "execution": {
     "iopub.execute_input": "2021-06-05T07:02:53.991137Z",
     "iopub.status.busy": "2021-06-05T07:02:53.990753Z",
     "iopub.status.idle": "2021-06-05T07:02:54.777382Z",
     "shell.execute_reply": "2021-06-05T07:02:54.7765Z",
     "shell.execute_reply.started": "2021-06-05T07:02:53.991095Z"
    }
   },
   "outputs": [],
   "source": [
    "ntrain = train.shape[0]\n",
    "ntest = test.shape[0]\n",
    "all_data = pd.concat([train, test], axis=0, sort=False)\n",
    "print(all_data.shape)"
   ]
  },
  {
   "cell_type": "code",
   "execution_count": null,
   "metadata": {
    "execution": {
     "iopub.execute_input": "2021-06-05T07:05:04.423853Z",
     "iopub.status.busy": "2021-06-05T07:05:04.423455Z",
     "iopub.status.idle": "2021-06-05T07:05:04.438145Z",
     "shell.execute_reply": "2021-06-05T07:05:04.437125Z",
     "shell.execute_reply.started": "2021-06-05T07:05:04.42382Z"
    }
   },
   "outputs": [],
   "source": [
    "del train,test"
   ]
  },
  {
   "cell_type": "code",
   "execution_count": null,
   "metadata": {
    "execution": {
     "iopub.execute_input": "2021-06-05T07:02:57.497109Z",
     "iopub.status.busy": "2021-06-05T07:02:57.496769Z",
     "iopub.status.idle": "2021-06-05T07:02:57.503159Z",
     "shell.execute_reply": "2021-06-05T07:02:57.501736Z",
     "shell.execute_reply.started": "2021-06-05T07:02:57.497076Z"
    }
   },
   "outputs": [],
   "source": [
    "ntrain + ntest"
   ]
  },
  {
   "cell_type": "code",
   "execution_count": null,
   "metadata": {
    "execution": {
     "iopub.execute_input": "2021-06-05T07:02:59.215496Z",
     "iopub.status.busy": "2021-06-05T07:02:59.215188Z",
     "iopub.status.idle": "2021-06-05T07:03:02.35087Z",
     "shell.execute_reply": "2021-06-05T07:03:02.349914Z",
     "shell.execute_reply.started": "2021-06-05T07:02:59.215468Z"
    }
   },
   "outputs": [],
   "source": [
    "# Encoding the data\n",
    "all_data = pd.get_dummies(all_data)\n",
    "print(all_data.shape)\n",
    "all_data.head()"
   ]
  },
  {
   "cell_type": "code",
   "execution_count": null,
   "metadata": {
    "execution": {
     "iopub.execute_input": "2021-06-05T07:05:21.036583Z",
     "iopub.status.busy": "2021-06-05T07:05:21.03608Z",
     "iopub.status.idle": "2021-06-05T07:05:22.346345Z",
     "shell.execute_reply": "2021-06-05T07:05:22.345372Z",
     "shell.execute_reply.started": "2021-06-05T07:05:21.036553Z"
    }
   },
   "outputs": [],
   "source": [
    "# Split the data again and get ready for training\n",
    "train = all_data[:ntrain]\n",
    "test = all_data[ntrain:]\n",
    "train.drop(['TransactionID'], axis=1, inplace=True)\n",
    "test_id = test['TransactionID']\n",
    "test.drop(['TransactionID'], axis=1, inplace=True)\n",
    "print(train.shape)\n",
    "print(test.shape)"
   ]
  },
  {
   "cell_type": "code",
   "execution_count": null,
   "metadata": {
    "execution": {
     "iopub.execute_input": "2021-06-05T07:05:26.615869Z",
     "iopub.status.busy": "2021-06-05T07:05:26.615373Z",
     "iopub.status.idle": "2021-06-05T07:05:26.704908Z",
     "shell.execute_reply": "2021-06-05T07:05:26.703784Z",
     "shell.execute_reply.started": "2021-06-05T07:05:26.61584Z"
    }
   },
   "outputs": [],
   "source": [
    "train.head()"
   ]
  },
  {
   "cell_type": "code",
   "execution_count": null,
   "metadata": {
    "execution": {
     "iopub.execute_input": "2021-06-05T07:05:32.171295Z",
     "iopub.status.busy": "2021-06-05T07:05:32.170935Z",
     "iopub.status.idle": "2021-06-05T07:05:32.25678Z",
     "shell.execute_reply": "2021-06-05T07:05:32.255683Z",
     "shell.execute_reply.started": "2021-06-05T07:05:32.171265Z"
    }
   },
   "outputs": [],
   "source": [
    "test.head()"
   ]
  },
  {
   "cell_type": "code",
   "execution_count": null,
   "metadata": {
    "execution": {
     "iopub.execute_input": "2021-06-05T07:06:44.022513Z",
     "iopub.status.busy": "2021-06-05T07:06:44.022185Z",
     "iopub.status.idle": "2021-06-05T07:06:44.034187Z",
     "shell.execute_reply": "2021-06-05T07:06:44.033122Z",
     "shell.execute_reply.started": "2021-06-05T07:06:44.022485Z"
    }
   },
   "outputs": [],
   "source": [
    "target.value_counts()"
   ]
  },
  {
   "cell_type": "code",
   "execution_count": null,
   "metadata": {
    "execution": {
     "iopub.execute_input": "2021-06-05T07:07:20.756831Z",
     "iopub.status.busy": "2021-06-05T07:07:20.756448Z",
     "iopub.status.idle": "2021-06-05T07:07:20.761833Z",
     "shell.execute_reply": "2021-06-05T07:07:20.760792Z",
     "shell.execute_reply.started": "2021-06-05T07:07:20.756791Z"
    }
   },
   "outputs": [],
   "source": [
    "differentcolumns(train.columns, test.columns)"
   ]
  },
  {
   "cell_type": "code",
   "execution_count": null,
   "metadata": {
    "execution": {
     "iopub.execute_input": "2021-06-05T07:07:28.20225Z",
     "iopub.status.busy": "2021-06-05T07:07:28.201941Z",
     "iopub.status.idle": "2021-06-05T07:07:28.675541Z",
     "shell.execute_reply": "2021-06-05T07:07:28.67458Z",
     "shell.execute_reply.started": "2021-06-05T07:07:28.202214Z"
    }
   },
   "outputs": [],
   "source": [
    "train.drop(['isFraud'], axis=1, inplace=True)\n",
    "test.drop(['isFraud'], axis=1, inplace=True)\n",
    "print(train.shape)\n",
    "print(test.shape)"
   ]
  },
  {
   "cell_type": "markdown",
   "metadata": {},
   "source": [
    "# Modelling"
   ]
  },
  {
   "cell_type": "code",
   "execution_count": null,
   "metadata": {
    "execution": {
     "iopub.execute_input": "2021-06-05T07:07:40.925026Z",
     "iopub.status.busy": "2021-06-05T07:07:40.924699Z",
     "iopub.status.idle": "2021-06-05T07:40:37.328408Z",
     "shell.execute_reply": "2021-06-05T07:40:37.327418Z",
     "shell.execute_reply.started": "2021-06-05T07:07:40.924997Z"
    }
   },
   "outputs": [],
   "source": [
    "# XGBOOST\n",
    "xgmodel = xgb.XGBClassifier(colsample_bytree=0.4603, gamma=0.0468, \n",
    "                             learning_rate=0.05, max_depth=50, \n",
    "                             min_child_weight=1.7817, n_estimators=200,\n",
    "                             reg_alpha=0.4640, reg_lambda=0.8571,\n",
    "                             subsample=0.5213, random_state =7, nthread = -1,\n",
    "                           tree_method='gpu_hist')\n",
    "xgmodel.fit(train, target)"
   ]
  },
  {
   "cell_type": "code",
   "execution_count": null,
   "metadata": {
    "execution": {
     "iopub.execute_input": "2021-06-05T07:40:37.330272Z",
     "iopub.status.busy": "2021-06-05T07:40:37.329992Z",
     "iopub.status.idle": "2021-06-05T07:41:22.687042Z",
     "shell.execute_reply": "2021-06-05T07:41:22.686164Z",
     "shell.execute_reply.started": "2021-06-05T07:40:37.330246Z"
    }
   },
   "outputs": [],
   "source": [
    "y_pred_xg = xgmodel.predict_proba(test)"
   ]
  },
  {
   "cell_type": "code",
   "execution_count": null,
   "metadata": {
    "execution": {
     "iopub.execute_input": "2021-06-05T07:41:22.736903Z",
     "iopub.status.busy": "2021-06-05T07:41:22.736602Z",
     "iopub.status.idle": "2021-06-05T07:41:22.746544Z",
     "shell.execute_reply": "2021-06-05T07:41:22.745312Z",
     "shell.execute_reply.started": "2021-06-05T07:41:22.736875Z"
    }
   },
   "outputs": [],
   "source": [
    "y_pred_xg"
   ]
  },
  {
   "cell_type": "code",
   "execution_count": null,
   "metadata": {
    "execution": {
     "iopub.execute_input": "2021-06-05T07:41:22.749015Z",
     "iopub.status.busy": "2021-06-05T07:41:22.748721Z",
     "iopub.status.idle": "2021-06-05T07:41:22.761571Z",
     "shell.execute_reply": "2021-06-05T07:41:22.760701Z",
     "shell.execute_reply.started": "2021-06-05T07:41:22.74899Z"
    }
   },
   "outputs": [],
   "source": [
    "y_pred_xg.shape"
   ]
  },
  {
   "cell_type": "code",
   "execution_count": null,
   "metadata": {
    "execution": {
     "iopub.execute_input": "2021-06-05T07:41:22.76356Z",
     "iopub.status.busy": "2021-06-05T07:41:22.763303Z",
     "iopub.status.idle": "2021-06-05T07:41:22.776811Z",
     "shell.execute_reply": "2021-06-05T07:41:22.775768Z",
     "shell.execute_reply.started": "2021-06-05T07:41:22.763535Z"
    }
   },
   "outputs": [],
   "source": [
    "y_pred_xg[:, 1]"
   ]
  },
  {
   "cell_type": "code",
   "execution_count": null,
   "metadata": {},
   "outputs": [],
   "source": [
    "sub = pd.DataFrame()\n",
    "sub['TransactionID'] = test_id\n",
    "sub['isFraud'] = y_pred_xg[:, 1]\n",
    "sub.to_csv('submission_xgb.csv', index=False)"
   ]
  }
 ],
 "metadata": {
  "kernelspec": {
   "display_name": "Python 3",
   "language": "python",
   "name": "python3"
  },
  "language_info": {
   "codemirror_mode": {
    "name": "ipython",
    "version": 3
   },
   "file_extension": ".py",
   "mimetype": "text/x-python",
   "name": "python",
   "nbconvert_exporter": "python",
   "pygments_lexer": "ipython3",
   "version": "3.7.7"
  }
 },
 "nbformat": 4,
 "nbformat_minor": 4
}
